{
  "nbformat": 4,
  "nbformat_minor": 0,
  "metadata": {
    "colab": {
      "provenance": [],
      "gpuType": "T4",
      "authorship_tag": "ABX9TyPPeRvVIZkAL2h2WiF8Tpqh",
      "include_colab_link": true
    },
    "kernelspec": {
      "name": "python3",
      "display_name": "Python 3"
    },
    "language_info": {
      "name": "python"
    },
    "accelerator": "GPU"
  },
  "cells": [
    {
      "cell_type": "markdown",
      "metadata": {
        "id": "view-in-github",
        "colab_type": "text"
      },
      "source": [
        "<a href=\"https://colab.research.google.com/github/HN-UI/25_1_AI_DL/blob/main/practice_file/AI_DL_Week3.ipynb\" target=\"_parent\"><img src=\"https://colab.research.google.com/assets/colab-badge.svg\" alt=\"Open In Colab\"/></a>"
      ]
    },
    {
      "cell_type": "code",
      "execution_count": 2,
      "metadata": {
        "id": "3gcy5JKRJvjH",
        "colab": {
          "base_uri": "https://localhost:8080/"
        },
        "outputId": "b23656f2-aaa6-4040-dec7-3c22c8d0bf33"
      },
      "outputs": [
        {
          "output_type": "stream",
          "name": "stdout",
          "text": [
            "Downloading data from https://storage.googleapis.com/tensorflow/tf-keras-datasets/mnist.npz\n",
            "\u001b[1m11490434/11490434\u001b[0m \u001b[32m━━━━━━━━━━━━━━━━━━━━\u001b[0m\u001b[37m\u001b[0m \u001b[1m0s\u001b[0m 0us/step\n"
          ]
        }
      ],
      "source": [
        "from tensorflow.keras.datasets import mnist\n",
        "(train_images, train_labels), (test_images, test_labels) = mnist.load_data()"
      ]
    },
    {
      "cell_type": "code",
      "source": [
        "from tensorflow import keras\n",
        "from tensorflow.keras import layers\n",
        "model = keras.Sequential([\n",
        "    layers.Dense(512, activation=\"relu\"),\n",
        "    layers.Dense(10, activation=\"softmax\")\n",
        "])"
      ],
      "metadata": {
        "id": "xr6QQ32IOAoQ"
      },
      "execution_count": 3,
      "outputs": []
    },
    {
      "cell_type": "code",
      "source": [
        "# numpy.reshape\n",
        "train_images = train_images.reshape((60000, 28 * 28))\n",
        "train_images = train_images.astype(\"float32\") / 255\n",
        "test_images = test_images.reshape((10000, 28 * 28))\n",
        "test_images = test_images.astype(\"float32\") / 255"
      ],
      "metadata": {
        "id": "6dUqBZTJOCGb"
      },
      "execution_count": 4,
      "outputs": []
    },
    {
      "cell_type": "code",
      "source": [
        "model.compile(optimizer=\"rmsprop\",\n",
        "              loss=\"sparse_categorical_crossentropy\",\n",
        "              metrics=[\"accuracy\"])"
      ],
      "metadata": {
        "id": "oY9Ga0xBOQva"
      },
      "execution_count": 5,
      "outputs": []
    },
    {
      "cell_type": "code",
      "source": [
        "model.fit(train_images, train_labels, epochs=5, batch_size=128)"
      ],
      "metadata": {
        "colab": {
          "base_uri": "https://localhost:8080/"
        },
        "id": "F7J9NAM5PGxk",
        "outputId": "fe9cfa8f-8571-43f2-b082-3403e49180f4"
      },
      "execution_count": 6,
      "outputs": [
        {
          "output_type": "stream",
          "name": "stdout",
          "text": [
            "Epoch 1/5\n",
            "\u001b[1m469/469\u001b[0m \u001b[32m━━━━━━━━━━━━━━━━━━━━\u001b[0m\u001b[37m\u001b[0m \u001b[1m4s\u001b[0m 4ms/step - accuracy: 0.8752 - loss: 0.4344\n",
            "Epoch 2/5\n",
            "\u001b[1m469/469\u001b[0m \u001b[32m━━━━━━━━━━━━━━━━━━━━\u001b[0m\u001b[37m\u001b[0m \u001b[1m1s\u001b[0m 2ms/step - accuracy: 0.9658 - loss: 0.1158\n",
            "Epoch 3/5\n",
            "\u001b[1m469/469\u001b[0m \u001b[32m━━━━━━━━━━━━━━━━━━━━\u001b[0m\u001b[37m\u001b[0m \u001b[1m1s\u001b[0m 2ms/step - accuracy: 0.9793 - loss: 0.0721\n",
            "Epoch 4/5\n",
            "\u001b[1m469/469\u001b[0m \u001b[32m━━━━━━━━━━━━━━━━━━━━\u001b[0m\u001b[37m\u001b[0m \u001b[1m1s\u001b[0m 2ms/step - accuracy: 0.9837 - loss: 0.0525\n",
            "Epoch 5/5\n",
            "\u001b[1m469/469\u001b[0m \u001b[32m━━━━━━━━━━━━━━━━━━━━\u001b[0m\u001b[37m\u001b[0m \u001b[1m1s\u001b[0m 2ms/step - accuracy: 0.9898 - loss: 0.0361\n"
          ]
        },
        {
          "output_type": "execute_result",
          "data": {
            "text/plain": [
              "<keras.src.callbacks.history.History at 0x784d9015ec10>"
            ]
          },
          "metadata": {},
          "execution_count": 6
        }
      ]
    },
    {
      "cell_type": "markdown",
      "source": [
        "---\n",
        "## Element-wises Operations"
      ],
      "metadata": {
        "id": "kkmMxmIWRz6i"
      }
    },
    {
      "cell_type": "code",
      "source": [
        "def naive_relu(x):\n",
        "    # 함수 input x가 2D 행렬인가?\n",
        "    assert len(x.shape) == 2\n",
        "    # x.copy()하고 x에 할당하였을 때, 함수 외부의 x (원본) 에는 영향을 주지 않음\n",
        "    x = x.copy()\n",
        "    # 2D 행렬의 각 원소들에 대해 relu function 수행\n",
        "    for i in range(x.shape[0]):\n",
        "        for j in range(x.shape[1]):\n",
        "            x[i, j] = max(x[i, j], 0)\n",
        "    return x"
      ],
      "metadata": {
        "id": "0wd4JE3lPJzw"
      },
      "execution_count": 7,
      "outputs": []
    },
    {
      "cell_type": "code",
      "source": [
        "def naive_add(x, y):\n",
        "    # 함수 input x가 2D 행렬인가?\n",
        "    assert len(x.shape) == 2\n",
        "    # 함수의 input x와 y가 둘다 2D 행렬인가?\n",
        "    assert x.shape == y.shape\n",
        "    x = x.copy()\n",
        "    # 원소별로 x 행렬에 y 행렬 값을 더하는 덧셈 연산 수행\n",
        "    for i in range(x.shape[0]):\n",
        "        for j in range(x.shape[1]):\n",
        "            x[i, j] += y[i, j]\n",
        "    return x"
      ],
      "metadata": {
        "id": "Ri3BKkUPSVRL"
      },
      "execution_count": 8,
      "outputs": []
    },
    {
      "cell_type": "code",
      "source": [
        "def naive_add_no_copy(x, y):\n",
        "    # 함수 input x가 2D 행렬인가?\n",
        "    assert len(x.shape) == 2\n",
        "    # 함수의 input x와 y가 둘다 2D 행렬인가?\n",
        "    assert x.shape == y.shape\n",
        "    # 원소별로 x 행렬에 y 행렬 값을 더하는 덧셈 연산 수행\n",
        "    for i in range(x.shape[0]):\n",
        "        for j in range(x.shape[1]):\n",
        "            x[i, j] += y[i, j]\n",
        "    return x"
      ],
      "metadata": {
        "id": "mSUt2XdwVFuZ"
      },
      "execution_count": 9,
      "outputs": []
    },
    {
      "cell_type": "code",
      "source": [
        "import numpy as np\n",
        "import time\n",
        "\n",
        "# 0~1 사이 실수로 이루어진 (20, 100) 크기 행렬 생성\n",
        "x = np.random.random((20, 100))\n",
        "y = np.random.random((20, 100))\n",
        "\n",
        "# 시작 시간을 기록\n",
        "t0 = time.time()\n",
        "\n",
        "# 1회 시행이 너무 빨라서 1000번 연산한 시간을 측정해야하므로 1000번 반복\n",
        "for _ in range(1000):\n",
        "    # numpy의 벡터화 연산\n",
        "    z = x + y\n",
        "    z = np.maximum(z, 0.)\n",
        "\n",
        "# 종료 시간이 측정되며 출력\n",
        "print(\"Took: {0:.2f} s\".format(time.time() - t0))"
      ],
      "metadata": {
        "colab": {
          "base_uri": "https://localhost:8080/"
        },
        "id": "2iywk7NXSoYM",
        "outputId": "c9a298a6-dbe2-4059-9c4d-fb05a82e9d7c"
      },
      "execution_count": 10,
      "outputs": [
        {
          "output_type": "stream",
          "name": "stdout",
          "text": [
            "Took: 0.01 s\n"
          ]
        }
      ]
    },
    {
      "cell_type": "code",
      "source": [
        "# test about x.copy()\n",
        "\n",
        "# 원본 x 출력\n",
        "print(x)\n",
        "\n",
        "# naive_add를 거친 z (x = x.copy() 연산 사용됨)\n",
        "z = naive_add(x, y)\n",
        "\n",
        "# z 출력\n",
        "print(z)\n",
        "\n",
        "# 원본 x 값이 z로 변경 되었는가? No\n",
        "print(np.array_equal(x, z))"
      ],
      "metadata": {
        "colab": {
          "base_uri": "https://localhost:8080/"
        },
        "id": "_saJjghFTpmV",
        "outputId": "efa84964-760b-42ca-bcc8-f71903908d8c"
      },
      "execution_count": 11,
      "outputs": [
        {
          "output_type": "stream",
          "name": "stdout",
          "text": [
            "[[0.78856533 0.16225049 0.73736429 ... 0.07992938 0.4062229  0.92805893]\n",
            " [0.02054381 0.05240552 0.77142823 ... 0.06475143 0.47041185 0.46137219]\n",
            " [0.59964979 0.60337779 0.93785249 ... 0.47996145 0.66764601 0.20903809]\n",
            " ...\n",
            " [0.87383145 0.34550639 0.49238951 ... 0.03597472 0.82003695 0.03713511]\n",
            " [0.28500852 0.62985136 0.72804325 ... 0.67784796 0.11941653 0.69578879]\n",
            " [0.1271649  0.30886448 0.40845454 ... 0.49664577 0.8939915  0.66067624]]\n",
            "[[1.08979773 0.41870505 1.28779603 ... 0.77989517 1.09060599 1.01107098]\n",
            " [0.2442643  0.18784759 1.56373797 ... 0.17155633 1.26770161 0.98109693]\n",
            " [1.04569379 1.28576524 1.20110328 ... 1.02781026 1.06209649 1.15473541]\n",
            " ...\n",
            " [1.12189331 1.28737849 0.49755224 ... 0.24430713 1.22124802 0.5634019 ]\n",
            " [1.2619055  1.25689414 1.52889058 ... 1.16004762 0.54110306 0.82972429]\n",
            " [0.43374409 0.65900925 1.03761052 ... 1.37628235 0.96779266 0.96025866]]\n",
            "False\n"
          ]
        }
      ]
    },
    {
      "cell_type": "code",
      "source": [
        "# test about x.copy()\n",
        "\n",
        "# 원본 x 출력\n",
        "print(x)\n",
        "\n",
        "# naive_add_no_copy를 거친 z (x = x.copy() 연산 사용하지 않는 함수)\n",
        "z = naive_add_no_copy(x, y)\n",
        "\n",
        "# z 출력\n",
        "print(z)\n",
        "\n",
        "# 원본 x 값이 z로 변경 되었는가? Yes\n",
        "print(np.array_equal(x, z))"
      ],
      "metadata": {
        "colab": {
          "base_uri": "https://localhost:8080/"
        },
        "id": "RWSMD-pyVK2O",
        "outputId": "c2b97340-39da-4fc8-8d83-405c7715ef8e"
      },
      "execution_count": 12,
      "outputs": [
        {
          "output_type": "stream",
          "name": "stdout",
          "text": [
            "[[0.78856533 0.16225049 0.73736429 ... 0.07992938 0.4062229  0.92805893]\n",
            " [0.02054381 0.05240552 0.77142823 ... 0.06475143 0.47041185 0.46137219]\n",
            " [0.59964979 0.60337779 0.93785249 ... 0.47996145 0.66764601 0.20903809]\n",
            " ...\n",
            " [0.87383145 0.34550639 0.49238951 ... 0.03597472 0.82003695 0.03713511]\n",
            " [0.28500852 0.62985136 0.72804325 ... 0.67784796 0.11941653 0.69578879]\n",
            " [0.1271649  0.30886448 0.40845454 ... 0.49664577 0.8939915  0.66067624]]\n",
            "[[1.08979773 0.41870505 1.28779603 ... 0.77989517 1.09060599 1.01107098]\n",
            " [0.2442643  0.18784759 1.56373797 ... 0.17155633 1.26770161 0.98109693]\n",
            " [1.04569379 1.28576524 1.20110328 ... 1.02781026 1.06209649 1.15473541]\n",
            " ...\n",
            " [1.12189331 1.28737849 0.49755224 ... 0.24430713 1.22124802 0.5634019 ]\n",
            " [1.2619055  1.25689414 1.52889058 ... 1.16004762 0.54110306 0.82972429]\n",
            " [0.43374409 0.65900925 1.03761052 ... 1.37628235 0.96779266 0.96025866]]\n",
            "True\n"
          ]
        }
      ]
    },
    {
      "cell_type": "code",
      "source": [
        "t0 = time.time()\n",
        "for _ in range(1000):\n",
        "    z = naive_add(x, y)\n",
        "    z = naive_relu(z)\n",
        "print(\"Took: {0:.2f} s\".format(time.time() - t0))"
      ],
      "metadata": {
        "colab": {
          "base_uri": "https://localhost:8080/"
        },
        "id": "wezH2OXwSrq2",
        "outputId": "ec9d9f54-bce9-4d5f-991c-5a67e7f0dc18"
      },
      "execution_count": 13,
      "outputs": [
        {
          "output_type": "stream",
          "name": "stdout",
          "text": [
            "Took: 3.18 s\n"
          ]
        }
      ]
    },
    {
      "cell_type": "markdown",
      "source": [
        "---\n",
        "## Broadcasting"
      ],
      "metadata": {
        "id": "S8d_qbSIVc12"
      }
    },
    {
      "cell_type": "code",
      "source": [
        "X = np.random.random((32, 10))\n",
        "y = np.random.random((10,))"
      ],
      "metadata": {
        "id": "Lx6GsugdTVLa"
      },
      "execution_count": 14,
      "outputs": []
    },
    {
      "cell_type": "code",
      "source": [
        "y = np.expand_dims(y, axis=0)"
      ],
      "metadata": {
        "id": "EAevJtQqVrI8"
      },
      "execution_count": 15,
      "outputs": []
    },
    {
      "cell_type": "code",
      "source": [
        "Y = np.concatenate([y] * 32, axis=0)"
      ],
      "metadata": {
        "id": "vHVtfyWSVu_D"
      },
      "execution_count": 16,
      "outputs": []
    },
    {
      "cell_type": "code",
      "source": [
        "def naive_add_matrix_and_vector(x, y):\n",
        "    assert len(x.shape) == 2\n",
        "    assert len(y.shape) == 1\n",
        "    assert x.shape[1] == y.shape[0]\n",
        "    x = x.copy()\n",
        "    for i in range(x.shape[0]):\n",
        "        for j in range(x.shape[1]):\n",
        "            x[i, j] += y[j]\n",
        "    return x"
      ],
      "metadata": {
        "id": "fojUohDyVvOU"
      },
      "execution_count": 17,
      "outputs": []
    },
    {
      "cell_type": "code",
      "source": [
        "x = np.random.random((64, 3, 32, 10))\n",
        "y = np.random.random((32, 10))\n",
        "z = np.maximum(x, y)"
      ],
      "metadata": {
        "id": "5m0zV5gUVxpW"
      },
      "execution_count": 18,
      "outputs": []
    },
    {
      "cell_type": "markdown",
      "source": [
        "---\n",
        "## Gradient-based Optimization"
      ],
      "metadata": {
        "id": "5W0J8fo9VzlB"
      }
    },
    {
      "cell_type": "code",
      "source": [
        "import tensorflow as tf\n",
        "\n",
        "x = tf.Variable(2.0)\n",
        "y = tf.Variable(1.0)\n",
        "with tf.GradientTape() as tape:\n",
        "    d = pow(x, 2) * y + x * y + 3 * y\n",
        "grad_of_y_wrt_x = tape.gradient(d, [x, y])\n",
        "print(grad_of_y_wrt_x)"
      ],
      "metadata": {
        "colab": {
          "base_uri": "https://localhost:8080/"
        },
        "id": "HgsqZJIJVy-D",
        "outputId": "fea59a36-7a33-456b-ee55-d253056badef"
      },
      "execution_count": 19,
      "outputs": [
        {
          "output_type": "stream",
          "name": "stdout",
          "text": [
            "[<tf.Tensor: shape=(), dtype=float32, numpy=5.0>, <tf.Tensor: shape=(), dtype=float32, numpy=9.0>]\n"
          ]
        }
      ]
    },
    {
      "cell_type": "code",
      "source": [
        "x = tf.constant(np.array([1.,4.,3.]).reshape(1, 3), dtype = tf.float32)\n",
        "b = tf.Variable(tf.zeros((2,)), dtype = tf.float32)\n",
        "W = tf.Variable(tf.random.uniform((3, 2)), dtype=tf.float32)"
      ],
      "metadata": {
        "id": "GD9y5qGjWwfo"
      },
      "execution_count": 21,
      "outputs": []
    },
    {
      "cell_type": "code",
      "source": [
        "with tf.GradientTape() as tape:\n",
        "    f1 = tf.matmul(x, W) + b\n",
        "\n",
        "grad_W, grad_b = tape.gradient(f1, [W, b])\n",
        "print(grad_W)\n",
        "print(grad_b)"
      ],
      "metadata": {
        "colab": {
          "base_uri": "https://localhost:8080/"
        },
        "id": "p9fEhBnLVL2M",
        "outputId": "7a3c7be4-9a20-4c2f-a38d-6a8762df5f16"
      },
      "execution_count": 25,
      "outputs": [
        {
          "output_type": "stream",
          "name": "stdout",
          "text": [
            "tf.Tensor(\n",
            "[[1. 1.]\n",
            " [4. 4.]\n",
            " [3. 3.]], shape=(3, 2), dtype=float32)\n",
            "tf.Tensor([1. 1.], shape=(2,), dtype=float32)\n"
          ]
        }
      ]
    },
    {
      "cell_type": "code",
      "source": [
        "with tf.GradientTape() as tape:\n",
        "    f2 = tf.pow(tf.matmul(x, W) + b, 3)\n",
        "\n",
        "grad_W, grad_b = tape.gradient(f2, [W, b])\n",
        "\n",
        "print(grad_W)\n",
        "print(grad_b)"
      ],
      "metadata": {
        "colab": {
          "base_uri": "https://localhost:8080/"
        },
        "id": "DseL4YzVVbT0",
        "outputId": "df72eb38-cd1e-45b4-c455-423e348242c6"
      },
      "execution_count": 26,
      "outputs": [
        {
          "output_type": "stream",
          "name": "stdout",
          "text": [
            "tf.Tensor(\n",
            "[[ 62.7025   104.684235]\n",
            " [250.81     418.73694 ]\n",
            " [188.1075   314.0527  ]], shape=(3, 2), dtype=float32)\n",
            "tf.Tensor([ 62.7025   104.684235], shape=(2,), dtype=float32)\n"
          ]
        }
      ]
    }
  ]
}